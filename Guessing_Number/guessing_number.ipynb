{
 "cells": [
  {
   "cell_type": "code",
   "execution_count": 12,
   "metadata": {},
   "outputs": [
    {
     "name": "stdout",
     "output_type": "stream",
     "text": [
      "50 is low , so guess high number\n",
      "75 is high , so guess lower number\n",
      "76 is high , so guess lower number\n",
      "65 is high , so guess lower number\n",
      "60 is low , so guess high number\n",
      "59 is low , so guess high number\n",
      "64 is high , so guess lower number\n",
      "63 is high , so guess lower number\n",
      "62 is high , so guess lower number\n",
      "Here you go 61 is right number. You guessed it in 10 attempts\n"
     ]
    }
   ],
   "source": [
    "import random\n",
    "\n",
    "# Generate a random number between 1 and 100\n",
    "random_number = random.randint(1,100)\n",
    "\n",
    "guess_number = 0\n",
    "\n",
    "\n",
    "# Loop until the user guesses the correct number\n",
    "while True:\n",
    "    try:\n",
    "\n",
    "\n",
    "    # Ask the user to input a number guess\n",
    "        user_guess = int(input(\"Enter number between from 1 to 100\"))\n",
    "\n",
    "        guess_number += 1\n",
    "\n",
    "        if random_number == user_guess:\n",
    "            print(f\"Here you go {user_guess} is right number. You guessed it in {guess_number} attempts\")\n",
    "            break\n",
    "\n",
    "        elif random_number < user_guess:\n",
    "            print(f\"{user_guess} is high , so guess lower number\")\n",
    "        \n",
    "        else:\n",
    "            print(f\"{user_guess} is low , so guess high number\")\n",
    "    except ValueError:\n",
    "        print(\"Enter only numeric number\")\n",
    "\n"
   ]
  }
 ],
 "metadata": {
  "kernelspec": {
   "display_name": "Python 3",
   "language": "python",
   "name": "python3"
  },
  "language_info": {
   "codemirror_mode": {
    "name": "ipython",
    "version": 3
   },
   "file_extension": ".py",
   "mimetype": "text/x-python",
   "name": "python",
   "nbconvert_exporter": "python",
   "pygments_lexer": "ipython3",
   "version": "3.9.6"
  }
 },
 "nbformat": 4,
 "nbformat_minor": 2
}
