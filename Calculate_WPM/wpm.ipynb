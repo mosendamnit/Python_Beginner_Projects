{
 "cells": [
  {
   "cell_type": "code",
   "execution_count": 7,
   "metadata": {},
   "outputs": [
    {
     "name": "stdout",
     "output_type": "stream",
     "text": [
      "Please type : I am new in coding but what i know practice makes man perfect\n",
      "\n",
      " Typed incorrectly . Please try again\n",
      "\n",
      " Typed incorrectly . Please try again\n",
      " \n",
      " Your wpm is 25.33 seconds\n"
     ]
    }
   ],
   "source": [
    "import time\n",
    "\n",
    "phrase = \"I am new in coding but what i know practice makes man perfect\"\n",
    "\n",
    "print(f\"Please type : {phrase}\")\n",
    "\n",
    "word_count = len(phrase.split())\n",
    "\n",
    "while True:\n",
    "\n",
    "    start_time = time.time()\n",
    "    attempt = input()\n",
    "\n",
    "    End_time= time.time()\n",
    "\n",
    "    attempt_time = (End_time- start_time)/60\n",
    "\n",
    "    wpm = str(round(word_count/attempt_time , 2))\n",
    "\n",
    "\n",
    "    if attempt == phrase:\n",
    "        print(f\" \\n Your wpm is {wpm} seconds\")\n",
    "        break # Application stop when phrase enter correctly \n",
    "\n",
    "    else:\n",
    "        print(f\"\\n Typed incorrectly . Please try again\")\n"
   ]
  }
 ],
 "metadata": {
  "kernelspec": {
   "display_name": "Python 3",
   "language": "python",
   "name": "python3"
  },
  "language_info": {
   "codemirror_mode": {
    "name": "ipython",
    "version": 3
   },
   "file_extension": ".py",
   "mimetype": "text/x-python",
   "name": "python",
   "nbconvert_exporter": "python",
   "pygments_lexer": "ipython3",
   "version": "3.9.6"
  }
 },
 "nbformat": 4,
 "nbformat_minor": 2
}
