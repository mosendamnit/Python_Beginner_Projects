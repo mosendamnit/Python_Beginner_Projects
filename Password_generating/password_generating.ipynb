{
 "cells": [
  {
   "cell_type": "code",
   "execution_count": 8,
   "metadata": {},
   "outputs": [
    {
     "name": "stdout",
     "output_type": "stream",
     "text": [
      "Automatic generated password\n",
      " v7wxmg3n%_xrtgb6\n"
     ]
    }
   ],
   "source": [
    "import random \n",
    "\n",
    "print(\"Automatic generated password\")\n",
    "\n",
    "char = \"abcdefghijklmnopqrstuvwxyz1234567890.,-_@%€\"\n",
    "\n",
    "password = \" \"\n",
    "\n",
    "for i in range(16):\n",
    "    password += random.choice(char)\n",
    "\n",
    "print(password)"
   ]
  }
 ],
 "metadata": {
  "kernelspec": {
   "display_name": "Python 3",
   "language": "python",
   "name": "python3"
  },
  "language_info": {
   "codemirror_mode": {
    "name": "ipython",
    "version": 3
   },
   "file_extension": ".py",
   "mimetype": "text/x-python",
   "name": "python",
   "nbconvert_exporter": "python",
   "pygments_lexer": "ipython3",
   "version": "3.9.6"
  }
 },
 "nbformat": 4,
 "nbformat_minor": 2
}
