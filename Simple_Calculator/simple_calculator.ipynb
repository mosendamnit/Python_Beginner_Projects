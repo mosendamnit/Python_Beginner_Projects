{
 "cells": [
  {
   "cell_type": "code",
   "execution_count": 4,
   "metadata": {},
   "outputs": [
    {
     "name": "stdout",
     "output_type": "stream",
     "text": [
      " Chosse Calculation \n",
      " Addition \n",
      " Subtration \n",
      " Multiplication \n",
      " Division \n",
      "\n",
      "11\n"
     ]
    }
   ],
   "source": [
    "num1 = int(input(\"Enter first number \"))\n",
    "num2 = int(input(\"Enter second number\"))\n",
    "\n",
    "print(\" Chosse Calculation \\n\", \n",
    "    \"Addition \\n\", \n",
    "    \"Subtration \\n\" ,\n",
    "    \"Multiplication \\n\" ,\n",
    "    \"Division \\n\")\n",
    "\n",
    "calculation = input()\n",
    "\n",
    "if calculation == \"Addition\":\n",
    "    ans =  num1 + num2\n",
    "\n",
    "elif calculation == \"Subtration\":\n",
    "    ans = num1 - num2\n",
    "\n",
    "elif calculation == \"Multiplication\":\n",
    "    ans = num1 * num2\n",
    "\n",
    "elif calculation == \"Division\":\n",
    "    ans = num1 / num2\n",
    "\n",
    "print(ans)\n"
   ]
  }
 ],
 "metadata": {
  "kernelspec": {
   "display_name": "Python 3",
   "language": "python",
   "name": "python3"
  },
  "language_info": {
   "codemirror_mode": {
    "name": "ipython",
    "version": 3
   },
   "file_extension": ".py",
   "mimetype": "text/x-python",
   "name": "python",
   "nbconvert_exporter": "python",
   "pygments_lexer": "ipython3",
   "version": "3.9.6"
  }
 },
 "nbformat": 4,
 "nbformat_minor": 2
}
